{
 "cells": [
  {
   "cell_type": "markdown",
   "metadata": {
    "tags": []
   },
   "source": [
    "# Lab | Data Structures "
   ]
  },
  {
   "cell_type": "markdown",
   "metadata": {},
   "source": [
    "## Exercise: Managing Customer Orders\n",
    "\n",
    "As part of a business venture, you are starting an online store that sells various products. To ensure smooth operations, you need to develop a program that manages customer orders and inventory.\n",
    "\n",
    "Follow the steps below to complete the exercise:\n",
    "\n",
    "1. Define a list called `products` that contains the following items: \"t-shirt\", \"mug\", \"hat\", \"book\", \"keychain\".\n",
    "\n",
    "2. Create an empty dictionary called `inventory`.\n",
    "\n",
    "3. Ask the user to input the quantity of each product available in the inventory. Use the product names from the `products` list as keys in the `inventory` dictionary and assign the respective quantities as values.\n",
    "\n",
    "4. Create an empty set called `customer_orders`.\n",
    "\n",
    "5. Ask the user to input the name of three products that a customer wants to order (from those in the products list, meaning three products out of \"t-shirt\", \"mug\", \"hat\", \"book\" or \"keychain\". Add each product name to the `customer_orders` set.\n",
    "\n",
    "6. Print the products in the `customer_orders` set.\n",
    "\n",
    "7. Calculate the following order statistics:\n",
    "   - Total Products Ordered: The total number of products in the `customer_orders` set.\n",
    "   - Percentage of Products Ordered: The percentage of products ordered compared to the total available products.\n",
    "   \n",
    "   Store these statistics in a tuple called `order_status`.\n",
    "\n",
    "8. Print the order statistics using the following format:\n",
    "   ```\n",
    "   Order Statistics:\n",
    "   Total Products Ordered: <total_products_ordered>\n",
    "   Percentage of Products Ordered: <percentage_ordered>% \n",
    "   ```\n",
    "\n",
    "9. Update the inventory by subtracting 1 from the quantity of each product. Modify the `inventory` dictionary accordingly.\n",
    "\n",
    "10. Print the updated inventory, displaying the quantity of each product on separate lines.\n",
    "\n",
    "Solve the exercise by implementing the steps using the Python concepts of lists, dictionaries, sets, and basic input/output operations. "
   ]
  },
  {
   "cell_type": "code",
   "execution_count": null,
   "metadata": {},
   "outputs": [],
   "source": [
    "products = [\"t-shirt\", \"mug\", \"hat\", \"book\", \"keychain\"]\n",
    "inventory = {}\n",
    "inventory [\"t-shirt\"] = int(input(\"how many t-shirt \"))\n",
    "inventory [\"mug\"] = int(input(\"how many mug \"))\n",
    "inventory [\"hat\"] = int(input(\"how many hat \"))\n",
    "inventory [\"keychain\"] = int(input(\"how many keychain \"))\n",
    "inventory [\"book\"] = int(input(\"how many book \"))\n",
    "inventory\n",
    "inventory = {\n",
    "    \"t-shirt\": 1,\n",
    "    \"mug\": 2,\n",
    "    \"hat\": 3,\n",
    "    \"book\": 4,\n",
    "    \"keychain\": 5\n",
    "}\n",
    "customer_orders = set()\n",
    "customer_orders.add(input(\"enter product \"))\n",
    "customer_orders.add(input(\"enter product \"))\n",
    "customer_orders.add(input(\"enter product \"))\n",
    "customer_orders\n",
    "print(customer_orders)\n",
    "total_customer_orders = len(customer_orders)\n",
    "print(total_customer_orders)\n",
    "percentage_customer_orders = (total_customer_orders / len(products)) * 100\n",
    "print(percentage_customer_orders)\n",
    "inventory [\"t-shirt\"] -= 1\n",
    "inventory [\"mug\"] -= 1\n",
    "inventory [\"hat\"] -= 1\n",
    "inventory [\"book\"] -= 1\n",
    "inventory [\"keychain\"] -= 1\n",
    "inventory.get(\"t-shirt\")\n",
    "inventory.get(\"mug\")\n",
    "inventory.get(\"hat\")\n",
    "inventory.get(\"book\")\n",
    "inventory.get(\"keychain\")\n"
   ]
  }
 ],
 "metadata": {
  "kernelspec": {
   "display_name": "Python 3 (ipykernel)",
   "language": "python",
   "name": "python3"
  },
  "language_info": {
   "codemirror_mode": {
    "name": "ipython",
    "version": 3
   },
   "file_extension": ".py",
   "mimetype": "text/x-python",
   "name": "python",
   "nbconvert_exporter": "python",
   "pygments_lexer": "ipython3",
   "version": "3.8.2"
  }
 },
 "nbformat": 4,
 "nbformat_minor": 4
}
